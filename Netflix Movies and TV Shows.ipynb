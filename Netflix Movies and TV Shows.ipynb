{
 "cells": [
  {
   "cell_type": "code",
   "id": "initial_id",
   "metadata": {
    "collapsed": true,
    "ExecuteTime": {
     "end_time": "2025-02-22T19:25:28.429379Z",
     "start_time": "2025-02-22T19:25:28.409551Z"
    }
   },
   "source": [
    "import pandas as pd\n",
    "import numpy as np\n",
    "import matplotlib.pyplot as plt\n",
    "import seaborn as sns\n",
    "import warnings\n",
    "\n",
    "warnings.filterwarnings(\"ignore\")\n",
    "\n",
    "%matplotlib inline"
   ],
   "outputs": [],
   "execution_count": 1
  },
  {
   "metadata": {},
   "cell_type": "markdown",
   "source": "# Understanding the Dataset",
   "id": "9edfd8dda054b13e"
  },
  {
   "metadata": {
    "ExecuteTime": {
     "end_time": "2025-02-22T19:25:28.550756Z",
     "start_time": "2025-02-22T19:25:28.452235Z"
    }
   },
   "cell_type": "code",
   "source": [
    "df = pd.read_csv('./data/netflix_titles.csv')\n",
    "df.head(2)"
   ],
   "id": "aca80a615717d0a0",
   "outputs": [
    {
     "data": {
      "text/plain": [
       "  show_id     type                 title         director  \\\n",
       "0      s1    Movie  Dick Johnson Is Dead  Kirsten Johnson   \n",
       "1      s2  TV Show         Blood & Water              NaN   \n",
       "\n",
       "                                                cast        country  \\\n",
       "0                                                NaN  United States   \n",
       "1  Ama Qamata, Khosi Ngema, Gail Mabalane, Thaban...   South Africa   \n",
       "\n",
       "           date_added  release_year rating   duration  \\\n",
       "0  September 25, 2021          2020  PG-13     90 min   \n",
       "1  September 24, 2021          2021  TV-MA  2 Seasons   \n",
       "\n",
       "                                         listed_in  \\\n",
       "0                                    Documentaries   \n",
       "1  International TV Shows, TV Dramas, TV Mysteries   \n",
       "\n",
       "                                         description  \n",
       "0  As her father nears the end of his life, filmm...  \n",
       "1  After crossing paths at a party, a Cape Town t...  "
      ],
      "text/html": [
       "<div>\n",
       "<style scoped>\n",
       "    .dataframe tbody tr th:only-of-type {\n",
       "        vertical-align: middle;\n",
       "    }\n",
       "\n",
       "    .dataframe tbody tr th {\n",
       "        vertical-align: top;\n",
       "    }\n",
       "\n",
       "    .dataframe thead th {\n",
       "        text-align: right;\n",
       "    }\n",
       "</style>\n",
       "<table border=\"1\" class=\"dataframe\">\n",
       "  <thead>\n",
       "    <tr style=\"text-align: right;\">\n",
       "      <th></th>\n",
       "      <th>show_id</th>\n",
       "      <th>type</th>\n",
       "      <th>title</th>\n",
       "      <th>director</th>\n",
       "      <th>cast</th>\n",
       "      <th>country</th>\n",
       "      <th>date_added</th>\n",
       "      <th>release_year</th>\n",
       "      <th>rating</th>\n",
       "      <th>duration</th>\n",
       "      <th>listed_in</th>\n",
       "      <th>description</th>\n",
       "    </tr>\n",
       "  </thead>\n",
       "  <tbody>\n",
       "    <tr>\n",
       "      <th>0</th>\n",
       "      <td>s1</td>\n",
       "      <td>Movie</td>\n",
       "      <td>Dick Johnson Is Dead</td>\n",
       "      <td>Kirsten Johnson</td>\n",
       "      <td>NaN</td>\n",
       "      <td>United States</td>\n",
       "      <td>September 25, 2021</td>\n",
       "      <td>2020</td>\n",
       "      <td>PG-13</td>\n",
       "      <td>90 min</td>\n",
       "      <td>Documentaries</td>\n",
       "      <td>As her father nears the end of his life, filmm...</td>\n",
       "    </tr>\n",
       "    <tr>\n",
       "      <th>1</th>\n",
       "      <td>s2</td>\n",
       "      <td>TV Show</td>\n",
       "      <td>Blood &amp; Water</td>\n",
       "      <td>NaN</td>\n",
       "      <td>Ama Qamata, Khosi Ngema, Gail Mabalane, Thaban...</td>\n",
       "      <td>South Africa</td>\n",
       "      <td>September 24, 2021</td>\n",
       "      <td>2021</td>\n",
       "      <td>TV-MA</td>\n",
       "      <td>2 Seasons</td>\n",
       "      <td>International TV Shows, TV Dramas, TV Mysteries</td>\n",
       "      <td>After crossing paths at a party, a Cape Town t...</td>\n",
       "    </tr>\n",
       "  </tbody>\n",
       "</table>\n",
       "</div>"
      ]
     },
     "execution_count": 2,
     "metadata": {},
     "output_type": "execute_result"
    }
   ],
   "execution_count": 2
  },
  {
   "metadata": {
    "ExecuteTime": {
     "end_time": "2025-02-22T19:25:28.997348Z",
     "start_time": "2025-02-22T19:25:28.978074Z"
    }
   },
   "cell_type": "code",
   "source": "df.info()",
   "id": "d44da3415e207f4",
   "outputs": [
    {
     "name": "stdout",
     "output_type": "stream",
     "text": [
      "<class 'pandas.core.frame.DataFrame'>\n",
      "RangeIndex: 8807 entries, 0 to 8806\n",
      "Data columns (total 12 columns):\n",
      " #   Column        Non-Null Count  Dtype \n",
      "---  ------        --------------  ----- \n",
      " 0   show_id       8807 non-null   object\n",
      " 1   type          8807 non-null   object\n",
      " 2   title         8807 non-null   object\n",
      " 3   director      6173 non-null   object\n",
      " 4   cast          7982 non-null   object\n",
      " 5   country       7976 non-null   object\n",
      " 6   date_added    8797 non-null   object\n",
      " 7   release_year  8807 non-null   int64 \n",
      " 8   rating        8803 non-null   object\n",
      " 9   duration      8804 non-null   object\n",
      " 10  listed_in     8807 non-null   object\n",
      " 11  description   8807 non-null   object\n",
      "dtypes: int64(1), object(11)\n",
      "memory usage: 825.8+ KB\n"
     ]
    }
   ],
   "execution_count": 3
  },
  {
   "metadata": {
    "ExecuteTime": {
     "end_time": "2025-02-22T19:25:29.039558Z",
     "start_time": "2025-02-22T19:25:29.026738Z"
    }
   },
   "cell_type": "code",
   "source": "df.describe()",
   "id": "3a8923ab7273f8b8",
   "outputs": [
    {
     "data": {
      "text/plain": [
       "       release_year\n",
       "count   8807.000000\n",
       "mean    2014.180198\n",
       "std        8.819312\n",
       "min     1925.000000\n",
       "25%     2013.000000\n",
       "50%     2017.000000\n",
       "75%     2019.000000\n",
       "max     2021.000000"
      ],
      "text/html": [
       "<div>\n",
       "<style scoped>\n",
       "    .dataframe tbody tr th:only-of-type {\n",
       "        vertical-align: middle;\n",
       "    }\n",
       "\n",
       "    .dataframe tbody tr th {\n",
       "        vertical-align: top;\n",
       "    }\n",
       "\n",
       "    .dataframe thead th {\n",
       "        text-align: right;\n",
       "    }\n",
       "</style>\n",
       "<table border=\"1\" class=\"dataframe\">\n",
       "  <thead>\n",
       "    <tr style=\"text-align: right;\">\n",
       "      <th></th>\n",
       "      <th>release_year</th>\n",
       "    </tr>\n",
       "  </thead>\n",
       "  <tbody>\n",
       "    <tr>\n",
       "      <th>count</th>\n",
       "      <td>8807.000000</td>\n",
       "    </tr>\n",
       "    <tr>\n",
       "      <th>mean</th>\n",
       "      <td>2014.180198</td>\n",
       "    </tr>\n",
       "    <tr>\n",
       "      <th>std</th>\n",
       "      <td>8.819312</td>\n",
       "    </tr>\n",
       "    <tr>\n",
       "      <th>min</th>\n",
       "      <td>1925.000000</td>\n",
       "    </tr>\n",
       "    <tr>\n",
       "      <th>25%</th>\n",
       "      <td>2013.000000</td>\n",
       "    </tr>\n",
       "    <tr>\n",
       "      <th>50%</th>\n",
       "      <td>2017.000000</td>\n",
       "    </tr>\n",
       "    <tr>\n",
       "      <th>75%</th>\n",
       "      <td>2019.000000</td>\n",
       "    </tr>\n",
       "    <tr>\n",
       "      <th>max</th>\n",
       "      <td>2021.000000</td>\n",
       "    </tr>\n",
       "  </tbody>\n",
       "</table>\n",
       "</div>"
      ]
     },
     "execution_count": 4,
     "metadata": {},
     "output_type": "execute_result"
    }
   ],
   "execution_count": 4
  },
  {
   "metadata": {
    "ExecuteTime": {
     "end_time": "2025-02-22T19:25:29.180467Z",
     "start_time": "2025-02-22T19:25:29.168224Z"
    }
   },
   "cell_type": "code",
   "source": "df.isnull().sum()",
   "id": "1f4884a5e1a88386",
   "outputs": [
    {
     "data": {
      "text/plain": [
       "show_id            0\n",
       "type               0\n",
       "title              0\n",
       "director        2634\n",
       "cast             825\n",
       "country          831\n",
       "date_added        10\n",
       "release_year       0\n",
       "rating             4\n",
       "duration           3\n",
       "listed_in          0\n",
       "description        0\n",
       "dtype: int64"
      ]
     },
     "execution_count": 5,
     "metadata": {},
     "output_type": "execute_result"
    }
   ],
   "execution_count": 5
  },
  {
   "metadata": {},
   "cell_type": "markdown",
   "source": "Director, cast, country, rating, duration, date_added",
   "id": "97913a4f5cd1f4bb"
  },
  {
   "metadata": {},
   "cell_type": "markdown",
   "source": "# Step 2: Data Cleaning",
   "id": "83d5c8253f4ee6d"
  },
  {
   "metadata": {
    "ExecuteTime": {
     "end_time": "2025-02-22T19:25:29.410847Z",
     "start_time": "2025-02-22T19:25:29.394378Z"
    }
   },
   "cell_type": "code",
   "source": "df_copy = df",
   "id": "c28cab1c66fcc2b2",
   "outputs": [],
   "execution_count": 6
  },
  {
   "metadata": {
    "ExecuteTime": {
     "end_time": "2025-02-22T19:25:29.744155Z",
     "start_time": "2025-02-22T19:25:29.736457Z"
    }
   },
   "cell_type": "code",
   "source": [
    "df_copy['director'] = df_copy['director'].fillna('Unknown')\n",
    "df_copy['cast'] = df_copy['cast'].fillna('Unknown')\n",
    "df_copy['country'] = df_copy['country'].fillna('Unknown')"
   ],
   "id": "22239ca0506d70d2",
   "outputs": [],
   "execution_count": 7
  },
  {
   "metadata": {
    "ExecuteTime": {
     "end_time": "2025-02-22T19:25:29.976497Z",
     "start_time": "2025-02-22T19:25:29.962620Z"
    }
   },
   "cell_type": "code",
   "source": "df_copy.isnull().sum()",
   "id": "8215b68ec065bb8c",
   "outputs": [
    {
     "data": {
      "text/plain": [
       "show_id          0\n",
       "type             0\n",
       "title            0\n",
       "director         0\n",
       "cast             0\n",
       "country          0\n",
       "date_added      10\n",
       "release_year     0\n",
       "rating           4\n",
       "duration         3\n",
       "listed_in        0\n",
       "description      0\n",
       "dtype: int64"
      ]
     },
     "execution_count": 8,
     "metadata": {},
     "output_type": "execute_result"
    }
   ],
   "execution_count": 8
  },
  {
   "metadata": {
    "ExecuteTime": {
     "end_time": "2025-02-22T19:25:30.288340Z",
     "start_time": "2025-02-22T19:25:30.277286Z"
    }
   },
   "cell_type": "code",
   "source": "df_copy['rating'].unique()",
   "id": "a1593168124ec9ce",
   "outputs": [
    {
     "data": {
      "text/plain": [
       "array(['PG-13', 'TV-MA', 'PG', 'TV-14', 'TV-PG', 'TV-Y', 'TV-Y7', 'R',\n",
       "       'TV-G', 'G', 'NC-17', '74 min', '84 min', '66 min', 'NR', nan,\n",
       "       'TV-Y7-FV', 'UR'], dtype=object)"
      ]
     },
     "execution_count": 9,
     "metadata": {},
     "output_type": "execute_result"
    }
   ],
   "execution_count": 9
  },
  {
   "metadata": {
    "ExecuteTime": {
     "end_time": "2025-02-22T19:25:30.441879Z",
     "start_time": "2025-02-22T19:25:30.426878Z"
    }
   },
   "cell_type": "code",
   "source": [
    "valid_categories = {\n",
    "    'PG-13', 'TV-MA', 'PG', 'TV-14', 'TV-PG', 'TV-Y', 'TV-Y7', 'R',\n",
    "       'TV-G', 'G', 'NC-17', 'NR', 'TV-Y7-FV', 'UR'\n",
    "}\n",
    "\n",
    "# Replace invalid entries with NaN (or handle them separately)\n",
    "df['rating'] = df['rating'].apply(lambda x: x if x in valid_categories else None)\n",
    "df_copy['rating'].unique()"
   ],
   "id": "be45bb349d975def",
   "outputs": [
    {
     "data": {
      "text/plain": [
       "array(['PG-13', 'TV-MA', 'PG', 'TV-14', 'TV-PG', 'TV-Y', 'TV-Y7', 'R',\n",
       "       'TV-G', 'G', 'NC-17', None, 'NR', 'TV-Y7-FV', 'UR'], dtype=object)"
      ]
     },
     "execution_count": 10,
     "metadata": {},
     "output_type": "execute_result"
    }
   ],
   "execution_count": 10
  },
  {
   "metadata": {
    "ExecuteTime": {
     "end_time": "2025-02-22T19:25:30.564277Z",
     "start_time": "2025-02-22T19:25:30.543483Z"
    }
   },
   "cell_type": "code",
   "source": [
    "# removing NONE value\n",
    "mode_value = df_copy[df_copy['rating'].notna()]['rating'].mode()[0]\n",
    "df_copy['rating'] = df_copy['rating'].fillna(mode_value)\n",
    "df_copy['rating'].isnull().sum()  # Should print 0 if all missing values are replaced"
   ],
   "id": "f72f66ed9fa916ab",
   "outputs": [
    {
     "data": {
      "text/plain": [
       "0"
      ]
     },
     "execution_count": 11,
     "metadata": {},
     "output_type": "execute_result"
    }
   ],
   "execution_count": 11
  },
  {
   "metadata": {
    "ExecuteTime": {
     "end_time": "2025-02-22T19:25:30.625356Z",
     "start_time": "2025-02-22T19:25:30.605975Z"
    }
   },
   "cell_type": "code",
   "source": "df.isnull().sum()",
   "id": "e4c305d3673e20a7",
   "outputs": [
    {
     "data": {
      "text/plain": [
       "show_id          0\n",
       "type             0\n",
       "title            0\n",
       "director         0\n",
       "cast             0\n",
       "country          0\n",
       "date_added      10\n",
       "release_year     0\n",
       "rating           0\n",
       "duration         3\n",
       "listed_in        0\n",
       "description      0\n",
       "dtype: int64"
      ]
     },
     "execution_count": 12,
     "metadata": {},
     "output_type": "execute_result"
    }
   ],
   "execution_count": 12
  },
  {
   "metadata": {},
   "cell_type": "markdown",
   "source": "# Handling Data",
   "id": "31826f0f0377c21c"
  },
  {
   "metadata": {
    "ExecuteTime": {
     "end_time": "2025-02-22T19:25:30.878409Z",
     "start_time": "2025-02-22T19:25:30.724356Z"
    }
   },
   "cell_type": "code",
   "source": [
    "# Step 3: Extract Month, Date, and Year\n",
    "df_copy['month'] = df_copy['date_added'].str.split(' ').str[0]\n",
    "df_copy['date'] = df_copy['date_added'].str.split(' ').str[1]\n",
    "df_copy['year'] = df_copy['date_added'].str.split(',').str[1]\n",
    "\n",
    "# Apply replace to each value in the 'date' column only if it's a string\n",
    "df_copy['date'] = df_copy['date'].apply(lambda x: x.replace(',', '') if isinstance(x, str) else x)\n",
    "\n",
    "# filling nan values\n",
    "df_copy['month'].fillna(0, inplace=True)\n",
    "df_copy['date'].fillna(0, inplace=True)\n",
    "df_copy['year'].fillna(0, inplace=True)\n",
    "\n",
    "# Step 4: Convert Month Names to Numbers & Clean Data\n",
    "month_map = {\n",
    "    'January': 1, 'February': 2, 'March': 3, 'April': 4,\n",
    "    'May': 5, 'June': 6, 'July': 7, 'August': 8,\n",
    "    'September': 9, 'October': 10, 'November': 11, 'December': 12\n",
    "}\n",
    "df_copy['month'] = df_copy['month'].map(month_map)\n",
    "df_copy['date'] = df_copy['date'].apply(lambda x: '0' if any(month in str(x) for month in month_map) else x)\n",
    "df_copy['date'] = pd.to_numeric(df_copy['date'], errors='coerce').fillna(0).astype(int)\n",
    "df_copy['year'] = pd.to_numeric(df_copy['year'], errors='coerce').fillna(0).astype(int)\n",
    "df_copy.head(2)"
   ],
   "id": "e002d495a2724f62",
   "outputs": [
    {
     "data": {
      "text/plain": [
       "  show_id     type                 title         director  \\\n",
       "0      s1    Movie  Dick Johnson Is Dead  Kirsten Johnson   \n",
       "1      s2  TV Show         Blood & Water          Unknown   \n",
       "\n",
       "                                                cast        country  \\\n",
       "0                                            Unknown  United States   \n",
       "1  Ama Qamata, Khosi Ngema, Gail Mabalane, Thaban...   South Africa   \n",
       "\n",
       "           date_added  release_year rating   duration  \\\n",
       "0  September 25, 2021          2020  PG-13     90 min   \n",
       "1  September 24, 2021          2021  TV-MA  2 Seasons   \n",
       "\n",
       "                                         listed_in  \\\n",
       "0                                    Documentaries   \n",
       "1  International TV Shows, TV Dramas, TV Mysteries   \n",
       "\n",
       "                                         description  month  date  year  \n",
       "0  As her father nears the end of his life, filmm...    9.0    25  2021  \n",
       "1  After crossing paths at a party, a Cape Town t...    9.0    24  2021  "
      ],
      "text/html": [
       "<div>\n",
       "<style scoped>\n",
       "    .dataframe tbody tr th:only-of-type {\n",
       "        vertical-align: middle;\n",
       "    }\n",
       "\n",
       "    .dataframe tbody tr th {\n",
       "        vertical-align: top;\n",
       "    }\n",
       "\n",
       "    .dataframe thead th {\n",
       "        text-align: right;\n",
       "    }\n",
       "</style>\n",
       "<table border=\"1\" class=\"dataframe\">\n",
       "  <thead>\n",
       "    <tr style=\"text-align: right;\">\n",
       "      <th></th>\n",
       "      <th>show_id</th>\n",
       "      <th>type</th>\n",
       "      <th>title</th>\n",
       "      <th>director</th>\n",
       "      <th>cast</th>\n",
       "      <th>country</th>\n",
       "      <th>date_added</th>\n",
       "      <th>release_year</th>\n",
       "      <th>rating</th>\n",
       "      <th>duration</th>\n",
       "      <th>listed_in</th>\n",
       "      <th>description</th>\n",
       "      <th>month</th>\n",
       "      <th>date</th>\n",
       "      <th>year</th>\n",
       "    </tr>\n",
       "  </thead>\n",
       "  <tbody>\n",
       "    <tr>\n",
       "      <th>0</th>\n",
       "      <td>s1</td>\n",
       "      <td>Movie</td>\n",
       "      <td>Dick Johnson Is Dead</td>\n",
       "      <td>Kirsten Johnson</td>\n",
       "      <td>Unknown</td>\n",
       "      <td>United States</td>\n",
       "      <td>September 25, 2021</td>\n",
       "      <td>2020</td>\n",
       "      <td>PG-13</td>\n",
       "      <td>90 min</td>\n",
       "      <td>Documentaries</td>\n",
       "      <td>As her father nears the end of his life, filmm...</td>\n",
       "      <td>9.0</td>\n",
       "      <td>25</td>\n",
       "      <td>2021</td>\n",
       "    </tr>\n",
       "    <tr>\n",
       "      <th>1</th>\n",
       "      <td>s2</td>\n",
       "      <td>TV Show</td>\n",
       "      <td>Blood &amp; Water</td>\n",
       "      <td>Unknown</td>\n",
       "      <td>Ama Qamata, Khosi Ngema, Gail Mabalane, Thaban...</td>\n",
       "      <td>South Africa</td>\n",
       "      <td>September 24, 2021</td>\n",
       "      <td>2021</td>\n",
       "      <td>TV-MA</td>\n",
       "      <td>2 Seasons</td>\n",
       "      <td>International TV Shows, TV Dramas, TV Mysteries</td>\n",
       "      <td>After crossing paths at a party, a Cape Town t...</td>\n",
       "      <td>9.0</td>\n",
       "      <td>24</td>\n",
       "      <td>2021</td>\n",
       "    </tr>\n",
       "  </tbody>\n",
       "</table>\n",
       "</div>"
      ]
     },
     "execution_count": 13,
     "metadata": {},
     "output_type": "execute_result"
    }
   ],
   "execution_count": 13
  },
  {
   "metadata": {
    "ExecuteTime": {
     "end_time": "2025-02-22T19:25:30.950265Z",
     "start_time": "2025-02-22T19:25:30.939128Z"
    }
   },
   "cell_type": "code",
   "source": "df_copy['month'] = df_copy['month'].fillna(0)",
   "id": "382592e388c16914",
   "outputs": [],
   "execution_count": 14
  },
  {
   "metadata": {
    "ExecuteTime": {
     "end_time": "2025-02-22T19:25:31.186420Z",
     "start_time": "2025-02-22T19:25:31.168470Z"
    }
   },
   "cell_type": "code",
   "source": "df_copy.isnull().sum()",
   "id": "9787788868050d51",
   "outputs": [
    {
     "data": {
      "text/plain": [
       "show_id          0\n",
       "type             0\n",
       "title            0\n",
       "director         0\n",
       "cast             0\n",
       "country          0\n",
       "date_added      10\n",
       "release_year     0\n",
       "rating           0\n",
       "duration         3\n",
       "listed_in        0\n",
       "description      0\n",
       "month            0\n",
       "date             0\n",
       "year             0\n",
       "dtype: int64"
      ]
     },
     "execution_count": 15,
     "metadata": {},
     "output_type": "execute_result"
    }
   ],
   "execution_count": 15
  },
  {
   "metadata": {
    "ExecuteTime": {
     "end_time": "2025-02-22T19:25:31.363865Z",
     "start_time": "2025-02-22T19:25:31.352632Z"
    }
   },
   "cell_type": "code",
   "source": [
    "# now no use od date_added column\n",
    "df_copy.drop('date_added',axis=1,inplace=True)"
   ],
   "id": "77f7018b98d7f08c",
   "outputs": [],
   "execution_count": 16
  },
  {
   "metadata": {},
   "cell_type": "markdown",
   "source": "## Movie Duration",
   "id": "da0844476f9e4132"
  },
  {
   "metadata": {
    "ExecuteTime": {
     "end_time": "2025-02-22T19:25:31.588719Z",
     "start_time": "2025-02-22T19:25:31.565620Z"
    }
   },
   "cell_type": "code",
   "source": "df_copy[df_copy['duration'].isnull()]",
   "id": "c2b3810bcc5b737e",
   "outputs": [
    {
     "data": {
      "text/plain": [
       "     show_id   type                                 title    director  \\\n",
       "5541   s5542  Movie                       Louis C.K. 2017  Louis C.K.   \n",
       "5794   s5795  Movie                 Louis C.K.: Hilarious  Louis C.K.   \n",
       "5813   s5814  Movie  Louis C.K.: Live at the Comedy Store  Louis C.K.   \n",
       "\n",
       "            cast        country  release_year rating duration listed_in  \\\n",
       "5541  Louis C.K.  United States          2017  TV-MA      NaN    Movies   \n",
       "5794  Louis C.K.  United States          2010  TV-MA      NaN    Movies   \n",
       "5813  Louis C.K.  United States          2015  TV-MA      NaN    Movies   \n",
       "\n",
       "                                            description  month  date  year  \n",
       "5541  Louis C.K. muses on religion, eternal love, gi...    4.0     4  2017  \n",
       "5794  Emmy-winning comedy writer Louis C.K. brings h...    9.0    16  2016  \n",
       "5813  The comic puts his trademark hilarious/thought...    8.0    15  2016  "
      ],
      "text/html": [
       "<div>\n",
       "<style scoped>\n",
       "    .dataframe tbody tr th:only-of-type {\n",
       "        vertical-align: middle;\n",
       "    }\n",
       "\n",
       "    .dataframe tbody tr th {\n",
       "        vertical-align: top;\n",
       "    }\n",
       "\n",
       "    .dataframe thead th {\n",
       "        text-align: right;\n",
       "    }\n",
       "</style>\n",
       "<table border=\"1\" class=\"dataframe\">\n",
       "  <thead>\n",
       "    <tr style=\"text-align: right;\">\n",
       "      <th></th>\n",
       "      <th>show_id</th>\n",
       "      <th>type</th>\n",
       "      <th>title</th>\n",
       "      <th>director</th>\n",
       "      <th>cast</th>\n",
       "      <th>country</th>\n",
       "      <th>release_year</th>\n",
       "      <th>rating</th>\n",
       "      <th>duration</th>\n",
       "      <th>listed_in</th>\n",
       "      <th>description</th>\n",
       "      <th>month</th>\n",
       "      <th>date</th>\n",
       "      <th>year</th>\n",
       "    </tr>\n",
       "  </thead>\n",
       "  <tbody>\n",
       "    <tr>\n",
       "      <th>5541</th>\n",
       "      <td>s5542</td>\n",
       "      <td>Movie</td>\n",
       "      <td>Louis C.K. 2017</td>\n",
       "      <td>Louis C.K.</td>\n",
       "      <td>Louis C.K.</td>\n",
       "      <td>United States</td>\n",
       "      <td>2017</td>\n",
       "      <td>TV-MA</td>\n",
       "      <td>NaN</td>\n",
       "      <td>Movies</td>\n",
       "      <td>Louis C.K. muses on religion, eternal love, gi...</td>\n",
       "      <td>4.0</td>\n",
       "      <td>4</td>\n",
       "      <td>2017</td>\n",
       "    </tr>\n",
       "    <tr>\n",
       "      <th>5794</th>\n",
       "      <td>s5795</td>\n",
       "      <td>Movie</td>\n",
       "      <td>Louis C.K.: Hilarious</td>\n",
       "      <td>Louis C.K.</td>\n",
       "      <td>Louis C.K.</td>\n",
       "      <td>United States</td>\n",
       "      <td>2010</td>\n",
       "      <td>TV-MA</td>\n",
       "      <td>NaN</td>\n",
       "      <td>Movies</td>\n",
       "      <td>Emmy-winning comedy writer Louis C.K. brings h...</td>\n",
       "      <td>9.0</td>\n",
       "      <td>16</td>\n",
       "      <td>2016</td>\n",
       "    </tr>\n",
       "    <tr>\n",
       "      <th>5813</th>\n",
       "      <td>s5814</td>\n",
       "      <td>Movie</td>\n",
       "      <td>Louis C.K.: Live at the Comedy Store</td>\n",
       "      <td>Louis C.K.</td>\n",
       "      <td>Louis C.K.</td>\n",
       "      <td>United States</td>\n",
       "      <td>2015</td>\n",
       "      <td>TV-MA</td>\n",
       "      <td>NaN</td>\n",
       "      <td>Movies</td>\n",
       "      <td>The comic puts his trademark hilarious/thought...</td>\n",
       "      <td>8.0</td>\n",
       "      <td>15</td>\n",
       "      <td>2016</td>\n",
       "    </tr>\n",
       "  </tbody>\n",
       "</table>\n",
       "</div>"
      ]
     },
     "execution_count": 17,
     "metadata": {},
     "output_type": "execute_result"
    }
   ],
   "execution_count": 17
  },
  {
   "metadata": {
    "ExecuteTime": {
     "end_time": "2025-02-22T19:25:31.706108Z",
     "start_time": "2025-02-22T19:25:31.697090Z"
    }
   },
   "cell_type": "code",
   "source": [
    "df_copy.loc[5541, 'duration'] = '74 min'\n",
    "df_copy.loc[5794, 'duration'] = '84 min'\n",
    "df_copy.loc[5813, 'duration'] = '66 min'"
   ],
   "id": "482130f00f0f91f5",
   "outputs": [],
   "execution_count": 18
  },
  {
   "metadata": {
    "ExecuteTime": {
     "end_time": "2025-02-22T19:25:31.940036Z",
     "start_time": "2025-02-22T19:25:31.903129Z"
    }
   },
   "cell_type": "code",
   "source": [
    "df_copy['movie_duration'] = df_copy['duration'].apply(lambda x: x if 'min' in str(x) else np.nan)\n",
    "df_copy['season_duration'] = df_copy['duration'].apply(lambda x: x if 'Season' in str(x) else np.nan)\n",
    "df_copy.head(2)"
   ],
   "id": "dcb00d963c4f18a5",
   "outputs": [
    {
     "data": {
      "text/plain": [
       "  show_id     type                 title         director  \\\n",
       "0      s1    Movie  Dick Johnson Is Dead  Kirsten Johnson   \n",
       "1      s2  TV Show         Blood & Water          Unknown   \n",
       "\n",
       "                                                cast        country  \\\n",
       "0                                            Unknown  United States   \n",
       "1  Ama Qamata, Khosi Ngema, Gail Mabalane, Thaban...   South Africa   \n",
       "\n",
       "   release_year rating   duration  \\\n",
       "0          2020  PG-13     90 min   \n",
       "1          2021  TV-MA  2 Seasons   \n",
       "\n",
       "                                         listed_in  \\\n",
       "0                                    Documentaries   \n",
       "1  International TV Shows, TV Dramas, TV Mysteries   \n",
       "\n",
       "                                         description  month  date  year  \\\n",
       "0  As her father nears the end of his life, filmm...    9.0    25  2021   \n",
       "1  After crossing paths at a party, a Cape Town t...    9.0    24  2021   \n",
       "\n",
       "  movie_duration season_duration  \n",
       "0         90 min             NaN  \n",
       "1            NaN       2 Seasons  "
      ],
      "text/html": [
       "<div>\n",
       "<style scoped>\n",
       "    .dataframe tbody tr th:only-of-type {\n",
       "        vertical-align: middle;\n",
       "    }\n",
       "\n",
       "    .dataframe tbody tr th {\n",
       "        vertical-align: top;\n",
       "    }\n",
       "\n",
       "    .dataframe thead th {\n",
       "        text-align: right;\n",
       "    }\n",
       "</style>\n",
       "<table border=\"1\" class=\"dataframe\">\n",
       "  <thead>\n",
       "    <tr style=\"text-align: right;\">\n",
       "      <th></th>\n",
       "      <th>show_id</th>\n",
       "      <th>type</th>\n",
       "      <th>title</th>\n",
       "      <th>director</th>\n",
       "      <th>cast</th>\n",
       "      <th>country</th>\n",
       "      <th>release_year</th>\n",
       "      <th>rating</th>\n",
       "      <th>duration</th>\n",
       "      <th>listed_in</th>\n",
       "      <th>description</th>\n",
       "      <th>month</th>\n",
       "      <th>date</th>\n",
       "      <th>year</th>\n",
       "      <th>movie_duration</th>\n",
       "      <th>season_duration</th>\n",
       "    </tr>\n",
       "  </thead>\n",
       "  <tbody>\n",
       "    <tr>\n",
       "      <th>0</th>\n",
       "      <td>s1</td>\n",
       "      <td>Movie</td>\n",
       "      <td>Dick Johnson Is Dead</td>\n",
       "      <td>Kirsten Johnson</td>\n",
       "      <td>Unknown</td>\n",
       "      <td>United States</td>\n",
       "      <td>2020</td>\n",
       "      <td>PG-13</td>\n",
       "      <td>90 min</td>\n",
       "      <td>Documentaries</td>\n",
       "      <td>As her father nears the end of his life, filmm...</td>\n",
       "      <td>9.0</td>\n",
       "      <td>25</td>\n",
       "      <td>2021</td>\n",
       "      <td>90 min</td>\n",
       "      <td>NaN</td>\n",
       "    </tr>\n",
       "    <tr>\n",
       "      <th>1</th>\n",
       "      <td>s2</td>\n",
       "      <td>TV Show</td>\n",
       "      <td>Blood &amp; Water</td>\n",
       "      <td>Unknown</td>\n",
       "      <td>Ama Qamata, Khosi Ngema, Gail Mabalane, Thaban...</td>\n",
       "      <td>South Africa</td>\n",
       "      <td>2021</td>\n",
       "      <td>TV-MA</td>\n",
       "      <td>2 Seasons</td>\n",
       "      <td>International TV Shows, TV Dramas, TV Mysteries</td>\n",
       "      <td>After crossing paths at a party, a Cape Town t...</td>\n",
       "      <td>9.0</td>\n",
       "      <td>24</td>\n",
       "      <td>2021</td>\n",
       "      <td>NaN</td>\n",
       "      <td>2 Seasons</td>\n",
       "    </tr>\n",
       "  </tbody>\n",
       "</table>\n",
       "</div>"
      ]
     },
     "execution_count": 19,
     "metadata": {},
     "output_type": "execute_result"
    }
   ],
   "execution_count": 19
  },
  {
   "metadata": {
    "ExecuteTime": {
     "end_time": "2025-02-22T19:25:32.245009Z",
     "start_time": "2025-02-22T19:25:32.175468Z"
    }
   },
   "cell_type": "code",
   "source": [
    "# For movie_duration: Remove ' min' and convert to numeric, then fill NaN with 0\n",
    "df_copy['movie_duration'] = df_copy['movie_duration'].astype(str).str.replace(' min', '', regex=False)\n",
    "df_copy['movie_duration'] = pd.to_numeric(df_copy['movie_duration'], errors='coerce')\n",
    "df_copy['movie_duration'] = df_copy['movie_duration'].fillna(0).astype(int)\n",
    "\n",
    "# For season_duration: Remove ' Seasons' and convert to numeric, then fill NaN with 0\n",
    "df_copy['season_duration'] = df_copy['season_duration'].astype(str).str.replace(' Seasons', '', regex=False)\n",
    "df_copy['season_duration'] = pd.to_numeric(df_copy['season_duration'], errors='coerce')\n",
    "df_copy['season_duration'] = df_copy['season_duration'].fillna(0).astype(int)\n",
    "\n",
    "# Check the DataFrame null sum\n",
    "df_copy.isnull().sum()\n"
   ],
   "id": "b04128f54bb19aa4",
   "outputs": [
    {
     "data": {
      "text/plain": [
       "show_id            0\n",
       "type               0\n",
       "title              0\n",
       "director           0\n",
       "cast               0\n",
       "country            0\n",
       "release_year       0\n",
       "rating             0\n",
       "duration           0\n",
       "listed_in          0\n",
       "description        0\n",
       "month              0\n",
       "date               0\n",
       "year               0\n",
       "movie_duration     0\n",
       "season_duration    0\n",
       "dtype: int64"
      ]
     },
     "execution_count": 20,
     "metadata": {},
     "output_type": "execute_result"
    }
   ],
   "execution_count": 20
  },
  {
   "metadata": {
    "ExecuteTime": {
     "end_time": "2025-02-22T19:25:32.547820Z",
     "start_time": "2025-02-22T19:25:32.531291Z"
    }
   },
   "cell_type": "code",
   "source": [
    "df_copy.drop('release_year',axis=1,inplace=True)\n",
    "df_copy.drop('duration',axis=1,inplace=True)"
   ],
   "id": "e28f03725505c3c5",
   "outputs": [],
   "execution_count": 21
  },
  {
   "metadata": {
    "ExecuteTime": {
     "end_time": "2025-02-22T19:25:32.873913Z",
     "start_time": "2025-02-22T19:25:32.850665Z"
    }
   },
   "cell_type": "code",
   "source": "df_copy.info()",
   "id": "76df56a51283923c",
   "outputs": [
    {
     "name": "stdout",
     "output_type": "stream",
     "text": [
      "<class 'pandas.core.frame.DataFrame'>\n",
      "RangeIndex: 8807 entries, 0 to 8806\n",
      "Data columns (total 14 columns):\n",
      " #   Column           Non-Null Count  Dtype  \n",
      "---  ------           --------------  -----  \n",
      " 0   show_id          8807 non-null   object \n",
      " 1   type             8807 non-null   object \n",
      " 2   title            8807 non-null   object \n",
      " 3   director         8807 non-null   object \n",
      " 4   cast             8807 non-null   object \n",
      " 5   country          8807 non-null   object \n",
      " 6   rating           8807 non-null   object \n",
      " 7   listed_in        8807 non-null   object \n",
      " 8   description      8807 non-null   object \n",
      " 9   month            8807 non-null   float64\n",
      " 10  date             8807 non-null   int32  \n",
      " 11  year             8807 non-null   int32  \n",
      " 12  movie_duration   8807 non-null   int32  \n",
      " 13  season_duration  8807 non-null   int32  \n",
      "dtypes: float64(1), int32(4), object(9)\n",
      "memory usage: 825.8+ KB\n"
     ]
    }
   ],
   "execution_count": 22
  },
  {
   "metadata": {
    "ExecuteTime": {
     "end_time": "2025-02-22T19:25:32.978560Z",
     "start_time": "2025-02-22T19:25:32.962595Z"
    }
   },
   "cell_type": "code",
   "source": "df_copy.isnull().sum()",
   "id": "e1ff3dfb93f3b776",
   "outputs": [
    {
     "data": {
      "text/plain": [
       "show_id            0\n",
       "type               0\n",
       "title              0\n",
       "director           0\n",
       "cast               0\n",
       "country            0\n",
       "rating             0\n",
       "listed_in          0\n",
       "description        0\n",
       "month              0\n",
       "date               0\n",
       "year               0\n",
       "movie_duration     0\n",
       "season_duration    0\n",
       "dtype: int64"
      ]
     },
     "execution_count": 23,
     "metadata": {},
     "output_type": "execute_result"
    }
   ],
   "execution_count": 23
  },
  {
   "metadata": {
    "ExecuteTime": {
     "end_time": "2025-02-22T19:25:33.253545Z",
     "start_time": "2025-02-22T19:25:33.086991Z"
    }
   },
   "cell_type": "code",
   "source": "df_copy.to_csv('cleaned_data.csv', index=False)",
   "id": "ec463745a2d173b6",
   "outputs": [],
   "execution_count": 24
  }
 ],
 "metadata": {
  "kernelspec": {
   "display_name": "Python 3",
   "language": "python",
   "name": "python3"
  },
  "language_info": {
   "codemirror_mode": {
    "name": "ipython",
    "version": 2
   },
   "file_extension": ".py",
   "mimetype": "text/x-python",
   "name": "python",
   "nbconvert_exporter": "python",
   "pygments_lexer": "ipython2",
   "version": "2.7.6"
  }
 },
 "nbformat": 4,
 "nbformat_minor": 5
}
